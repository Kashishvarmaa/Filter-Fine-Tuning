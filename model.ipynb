{
 "cells": [
  {
   "cell_type": "code",
   "execution_count": 4,
   "metadata": {},
   "outputs": [],
   "source": [
    "import tensorflow as tf\n",
    "import tensorflow_datasets as tfds\n",
    "from tensorflow.keras.applications import ResNet50\n",
    "from tensorflow.keras.layers import Dense, GlobalAveragePooling2D\n",
    "from tensorflow.keras.models import Model\n",
    "from tensorflow.keras.optimizers import Adam\n",
    "from tensorflow.keras.callbacks import ReduceLROnPlateau, EarlyStopping"
   ]
  },
  {
   "cell_type": "code",
   "execution_count": 5,
   "metadata": {},
   "outputs": [
    {
     "name": "stdout",
     "output_type": "stream",
     "text": [
      "\u001b[1mDownloading and preparing dataset 778.12 MiB (download: 778.12 MiB, generated: Unknown size, total: 778.12 MiB) to /Users/kashishvarmaa/tensorflow_datasets/stanford_dogs/0.2.0...\u001b[0m\n"
     ]
    },
    {
     "data": {
      "application/vnd.jupyter.widget-view+json": {
       "model_id": "b69c18e65f2443a18a967582a5266d29",
       "version_major": 2,
       "version_minor": 0
      },
      "text/plain": [
       "Dl Completed...: 0 url [00:00, ? url/s]"
      ]
     },
     "metadata": {},
     "output_type": "display_data"
    },
    {
     "data": {
      "application/vnd.jupyter.widget-view+json": {
       "model_id": "2072fdeb06a2426ea699ddb6916cf854",
       "version_major": 2,
       "version_minor": 0
      },
      "text/plain": [
       "Dl Size...: 0 MiB [00:00, ? MiB/s]"
      ]
     },
     "metadata": {},
     "output_type": "display_data"
    },
    {
     "data": {
      "application/vnd.jupyter.widget-view+json": {
       "model_id": "60d9974288a448fe93d2663c9c5928a7",
       "version_major": 2,
       "version_minor": 0
      },
      "text/plain": [
       "Dl Completed...: 0 url [00:00, ? url/s]"
      ]
     },
     "metadata": {},
     "output_type": "display_data"
    },
    {
     "data": {
      "application/vnd.jupyter.widget-view+json": {
       "model_id": "d546c2f6f0b14360aeac75b4739900a4",
       "version_major": 2,
       "version_minor": 0
      },
      "text/plain": [
       "Dl Size...: 0 MiB [00:00, ? MiB/s]"
      ]
     },
     "metadata": {},
     "output_type": "display_data"
    },
    {
     "data": {
      "application/vnd.jupyter.widget-view+json": {
       "model_id": "6bbc0d97fb7a44dbb84a74a3a2c33620",
       "version_major": 2,
       "version_minor": 0
      },
      "text/plain": [
       "Extraction completed...: 0 file [00:00, ? file/s]"
      ]
     },
     "metadata": {},
     "output_type": "display_data"
    },
    {
     "data": {
      "application/vnd.jupyter.widget-view+json": {
       "model_id": "11d2a51ab9434cea9e09c5a21fad167a",
       "version_major": 2,
       "version_minor": 0
      },
      "text/plain": [
       "Generating splits...:   0%|          | 0/2 [00:00<?, ? splits/s]"
      ]
     },
     "metadata": {},
     "output_type": "display_data"
    },
    {
     "data": {
      "application/vnd.jupyter.widget-view+json": {
       "model_id": "c8ae8c281144400299e33070916779f7",
       "version_major": 2,
       "version_minor": 0
      },
      "text/plain": [
       "Generating train examples...:   0%|          | 0/12000 [00:00<?, ? examples/s]"
      ]
     },
     "metadata": {},
     "output_type": "display_data"
    },
    {
     "data": {
      "application/vnd.jupyter.widget-view+json": {
       "model_id": "d91adfd607f9417ba9436391f561d4bf",
       "version_major": 2,
       "version_minor": 0
      },
      "text/plain": [
       "Shuffling /Users/kashishvarmaa/tensorflow_datasets/stanford_dogs/incomplete.PVTYMX_0.2.0/stanford_dogs-train.t…"
      ]
     },
     "metadata": {},
     "output_type": "display_data"
    },
    {
     "data": {
      "application/vnd.jupyter.widget-view+json": {
       "model_id": "1ce6d14f6f444f8c92d820cb60512bda",
       "version_major": 2,
       "version_minor": 0
      },
      "text/plain": [
       "Generating test examples...:   0%|          | 0/8580 [00:00<?, ? examples/s]"
      ]
     },
     "metadata": {},
     "output_type": "display_data"
    },
    {
     "data": {
      "application/vnd.jupyter.widget-view+json": {
       "model_id": "7f3ea7c172ef41eb8cfeb8d3e526e3d2",
       "version_major": 2,
       "version_minor": 0
      },
      "text/plain": [
       "Shuffling /Users/kashishvarmaa/tensorflow_datasets/stanford_dogs/incomplete.PVTYMX_0.2.0/stanford_dogs-test.tf…"
      ]
     },
     "metadata": {},
     "output_type": "display_data"
    },
    {
     "name": "stdout",
     "output_type": "stream",
     "text": [
      "\u001b[1mDataset stanford_dogs downloaded and prepared to /Users/kashishvarmaa/tensorflow_datasets/stanford_dogs/0.2.0. Subsequent calls will reuse this data.\u001b[0m\n"
     ]
    }
   ],
   "source": [
    "# Step 1: Load the Stanford Dogs dataset from TensorFlow Datasets\n",
    "(train_data, test_data), info = tfds.load('stanford_dogs', split=['train', 'test'], \n",
    "                                          with_info=True, as_supervised=True)"
   ]
  },
  {
   "cell_type": "code",
   "execution_count": 6,
   "metadata": {},
   "outputs": [],
   "source": [
    "# Step 2: Preprocess the data (Resize and Normalize)\n",
    "IMG_SIZE = (224, 224)\n",
    "\n",
    "def preprocess(image, label):\n",
    "    image = tf.image.resize(image, IMG_SIZE)  # Resize images to 224x224\n",
    "    image = tf.cast(image, tf.float32) / 255.0  # Normalize to [0, 1]\n",
    "    return image, label\n",
    "\n",
    "train_data = train_data.map(preprocess).batch(32).prefetch(buffer_size=tf.data.AUTOTUNE)\n",
    "test_data = test_data.map(preprocess).batch(32).prefetch(buffer_size=tf.data.AUTOTUNE)"
   ]
  },
  {
   "cell_type": "code",
   "execution_count": 7,
   "metadata": {},
   "outputs": [],
   "source": [
    "# Step 3: Load the pre-trained ResNet50 model\n",
    "base_model = ResNet50(weights='imagenet', include_top=False, input_shape=(224, 224, 3))"
   ]
  },
  {
   "cell_type": "code",
   "execution_count": 8,
   "metadata": {},
   "outputs": [],
   "source": [
    "# IMP !!!\n",
    "''' Step 4 (Freezing Layers):\n",
    "\t•\tYou freeze the earlier layers of the pre-trained model and only fine-tune the last 10 layers by setting layer.trainable = False for the frozen layers.\n",
    "\t•\tTo adjust the number of layers for fine-tuning, modify the range in base_model.layers[:-10]. For example, if you want to fine-tune the last 20 layers, change it to base_model.layers[:-20].'''\n",
    "# Step 4: Filter Fine-Tuning (Freeze and Unfreeze Layers)\n",
    "# Freeze all layers except the last 10 (you can modify this number to adjust the filters)\n",
    "for layer in base_model.layers[:-10]:  # Fine-tuning only the last 10 layers\n",
    "    layer.trainable = False  # Freeze earlier layers to keep pre-trained filters\n",
    "\n",
    "# Adding new layers for fine-tuning the model for the Stanford Dogs classification task\n",
    "x = base_model.output\n",
    "x = GlobalAveragePooling2D()(x)\n",
    "x = Dense(1024, activation='relu')(x)\n",
    "predictions = Dense(info.features['label'].num_classes, activation='softmax')(x)"
   ]
  },
  {
   "cell_type": "code",
   "execution_count": 9,
   "metadata": {},
   "outputs": [],
   "source": [
    "# Step 5: Create the model\n",
    "model = Model(inputs=base_model.input, outputs=predictions)"
   ]
  },
  {
   "cell_type": "code",
   "execution_count": 10,
   "metadata": {},
   "outputs": [],
   "source": [
    "# Step 6: Compile the model for fine-tuning with a small learning rate\n",
    "optimizer = Adam(learning_rate=1e-4)  # Small learning rate for fine-tuning filters\n",
    "model.compile(optimizer=optimizer, loss='sparse_categorical_crossentropy', metrics=['accuracy'])"
   ]
  },
  {
   "cell_type": "code",
   "execution_count": 11,
   "metadata": {},
   "outputs": [],
   "source": [
    "# Step 7: Define Callbacks for Adaptive Learning Rate and Early Stopping\n",
    "lr_reduction = ReduceLROnPlateau(monitor='val_loss', patience=3, factor=0.5, verbose=1)\n",
    "early_stopping = EarlyStopping(monitor='val_loss', patience=5, restore_best_weights=True)"
   ]
  },
  {
   "cell_type": "code",
   "execution_count": 13,
   "metadata": {},
   "outputs": [
    {
     "name": "stdout",
     "output_type": "stream",
     "text": [
      "Epoch 1/20\n",
      "\u001b[1m375/375\u001b[0m \u001b[32m━━━━━━━━━━━━━━━━━━━━\u001b[0m\u001b[37m\u001b[0m \u001b[1m1049s\u001b[0m 3s/step - accuracy: 0.0655 - loss: 4.2770 - val_accuracy: 0.0442 - val_loss: 4.4488 - learning_rate: 5.0000e-05\n",
      "Epoch 2/20\n",
      "\u001b[1m375/375\u001b[0m \u001b[32m━━━━━━━━━━━━━━━━━━━━\u001b[0m\u001b[37m\u001b[0m \u001b[1m1267s\u001b[0m 3s/step - accuracy: 0.0826 - loss: 4.1430 - val_accuracy: 0.0503 - val_loss: 4.4240 - learning_rate: 5.0000e-05\n",
      "Epoch 3/20\n",
      "\u001b[1m375/375\u001b[0m \u001b[32m━━━━━━━━━━━━━━━━━━━━\u001b[0m\u001b[37m\u001b[0m \u001b[1m2999s\u001b[0m 8s/step - accuracy: 0.0980 - loss: 4.0273 - val_accuracy: 0.0502 - val_loss: 4.4464 - learning_rate: 5.0000e-05\n",
      "Epoch 4/20\n",
      "\u001b[1m375/375\u001b[0m \u001b[32m━━━━━━━━━━━━━━━━━━━━\u001b[0m\u001b[37m\u001b[0m \u001b[1m1527s\u001b[0m 4s/step - accuracy: 0.1214 - loss: 3.9090 - val_accuracy: 0.0497 - val_loss: 4.4592 - learning_rate: 5.0000e-05\n",
      "Epoch 5/20\n",
      "\u001b[1m375/375\u001b[0m \u001b[32m━━━━━━━━━━━━━━━━━━━━\u001b[0m\u001b[37m\u001b[0m \u001b[1m0s\u001b[0m 3s/step - accuracy: 0.1450 - loss: 3.7804\n",
      "Epoch 5: ReduceLROnPlateau reducing learning rate to 2.499999936844688e-05.\n",
      "\u001b[1m375/375\u001b[0m \u001b[32m━━━━━━━━━━━━━━━━━━━━\u001b[0m\u001b[37m\u001b[0m \u001b[1m1685s\u001b[0m 4s/step - accuracy: 0.1450 - loss: 3.7804 - val_accuracy: 0.0458 - val_loss: 4.5185 - learning_rate: 5.0000e-05\n",
      "Epoch 6/20\n",
      "\u001b[1m375/375\u001b[0m \u001b[32m━━━━━━━━━━━━━━━━━━━━\u001b[0m\u001b[37m\u001b[0m \u001b[1m1632s\u001b[0m 4s/step - accuracy: 0.1798 - loss: 3.6165 - val_accuracy: 0.0487 - val_loss: 4.5288 - learning_rate: 2.5000e-05\n",
      "Epoch 7/20\n",
      "\u001b[1m375/375\u001b[0m \u001b[32m━━━━━━━━━━━━━━━━━━━━\u001b[0m\u001b[37m\u001b[0m \u001b[1m1640s\u001b[0m 4s/step - accuracy: 0.2055 - loss: 3.5111 - val_accuracy: 0.0488 - val_loss: 4.5737 - learning_rate: 2.5000e-05\n"
     ]
    }
   ],
   "source": [
    "# Step 8: Initial Training (fine-tuning the last few layers)\n",
    "history = model.fit(train_data, validation_data=test_data, epochs=20, \n",
    "                    callbacks=[lr_reduction, early_stopping])"
   ]
  },
  {
   "cell_type": "code",
   "execution_count": 14,
   "metadata": {},
   "outputs": [],
   "source": [
    "# IMPPP!!\n",
    "'''Step 9 (Unfreezing More Layers):\n",
    "\t•\tYou can unfreeze more layers for further fine-tuning after initial training. Here, I’ve unfrozen the last 30 layers (base_model.layers[-30:]), but you can modify this value depending on how much of the model you want to fine-tune.\n",
    "\t•\tTo target specific filters or layers, adjust the number of layers you unfreeze. This gradual unfreezing helps in adaptive filter fine-tuning.\n",
    "'''\n",
    "# Step 9: Gradually Unfreeze More Layers for Further Filter Fine-Tuning\n",
    "# Now we will unfreeze more layers for further fine-tuning\n",
    "for layer in base_model.layers[-30:]:  # Unfreeze more layers as training progresses\n",
    "    layer.trainable = True  # Fine-tuning filters in the last 30 layers"
   ]
  },
  {
   "cell_type": "code",
   "execution_count": 15,
   "metadata": {},
   "outputs": [],
   "source": [
    "# Step 10: Re-compile the model with a lower learning rate\n",
    "optimizer = Adam(learning_rate=1e-5)  # Lower learning rate for deeper fine-tuning\n",
    "model.compile(optimizer=optimizer, loss='sparse_categorical_crossentropy', metrics=['accuracy'])"
   ]
  },
  {
   "cell_type": "code",
   "execution_count": 16,
   "metadata": {},
   "outputs": [
    {
     "name": "stdout",
     "output_type": "stream",
     "text": [
      "Epoch 1/10\n",
      "\u001b[1m375/375\u001b[0m \u001b[32m━━━━━━━━━━━━━━━━━━━━\u001b[0m\u001b[37m\u001b[0m \u001b[1m2130s\u001b[0m 6s/step - accuracy: 0.0364 - loss: 4.5586 - val_accuracy: 0.0582 - val_loss: 4.3601 - learning_rate: 1.0000e-05\n",
      "Epoch 2/10\n",
      "\u001b[1m375/375\u001b[0m \u001b[32m━━━━━━━━━━━━━━━━━━━━\u001b[0m\u001b[37m\u001b[0m \u001b[1m1756s\u001b[0m 5s/step - accuracy: 0.0833 - loss: 4.1382 - val_accuracy: 0.0684 - val_loss: 4.2699 - learning_rate: 1.0000e-05\n",
      "Epoch 3/10\n",
      "\u001b[1m375/375\u001b[0m \u001b[32m━━━━━━━━━━━━━━━━━━━━\u001b[0m\u001b[37m\u001b[0m \u001b[1m1202s\u001b[0m 3s/step - accuracy: 0.1130 - loss: 3.9477 - val_accuracy: 0.0758 - val_loss: 4.2130 - learning_rate: 1.0000e-05\n",
      "Epoch 4/10\n",
      "\u001b[1m375/375\u001b[0m \u001b[32m━━━━━━━━━━━━━━━━━━━━\u001b[0m\u001b[37m\u001b[0m \u001b[1m1410s\u001b[0m 4s/step - accuracy: 0.1454 - loss: 3.7813 - val_accuracy: 0.0754 - val_loss: 4.2106 - learning_rate: 1.0000e-05\n",
      "Epoch 5/10\n",
      "\u001b[1m375/375\u001b[0m \u001b[32m━━━━━━━━━━━━━━━━━━━━\u001b[0m\u001b[37m\u001b[0m \u001b[1m1743s\u001b[0m 5s/step - accuracy: 0.1800 - loss: 3.6121 - val_accuracy: 0.0811 - val_loss: 4.2091 - learning_rate: 1.0000e-05\n",
      "Epoch 6/10\n",
      "\u001b[1m375/375\u001b[0m \u001b[32m━━━━━━━━━━━━━━━━━━━━\u001b[0m\u001b[37m\u001b[0m \u001b[1m2127s\u001b[0m 6s/step - accuracy: 0.2183 - loss: 3.4394 - val_accuracy: 0.0834 - val_loss: 4.1928 - learning_rate: 1.0000e-05\n",
      "Epoch 7/10\n",
      "\u001b[1m375/375\u001b[0m \u001b[32m━━━━━━━━━━━━━━━━━━━━\u001b[0m\u001b[37m\u001b[0m \u001b[1m978s\u001b[0m 3s/step - accuracy: 0.2630 - loss: 3.2533 - val_accuracy: 0.0808 - val_loss: 4.2052 - learning_rate: 1.0000e-05\n",
      "Epoch 8/10\n",
      "\u001b[1m375/375\u001b[0m \u001b[32m━━━━━━━━━━━━━━━━━━━━\u001b[0m\u001b[37m\u001b[0m \u001b[1m970s\u001b[0m 3s/step - accuracy: 0.3137 - loss: 3.0603 - val_accuracy: 0.0821 - val_loss: 4.2303 - learning_rate: 1.0000e-05\n",
      "Epoch 9/10\n",
      "\u001b[1m375/375\u001b[0m \u001b[32m━━━━━━━━━━━━━━━━━━━━\u001b[0m\u001b[37m\u001b[0m \u001b[1m0s\u001b[0m 2s/step - accuracy: 0.3658 - loss: 2.8588\n",
      "Epoch 9: ReduceLROnPlateau reducing learning rate to 4.999999873689376e-06.\n",
      "\u001b[1m375/375\u001b[0m \u001b[32m━━━━━━━━━━━━━━━━━━━━\u001b[0m\u001b[37m\u001b[0m \u001b[1m1096s\u001b[0m 3s/step - accuracy: 0.3658 - loss: 2.8587 - val_accuracy: 0.0830 - val_loss: 4.2765 - learning_rate: 1.0000e-05\n",
      "Epoch 10/10\n",
      "\u001b[1m375/375\u001b[0m \u001b[32m━━━━━━━━━━━━━━━━━━━━\u001b[0m\u001b[37m\u001b[0m \u001b[1m1064s\u001b[0m 3s/step - accuracy: 0.4184 - loss: 2.6646 - val_accuracy: 0.0846 - val_loss: 4.2441 - learning_rate: 5.0000e-06\n"
     ]
    }
   ],
   "source": [
    "# Step 11: Continue training with fine-tuning on more layers\n",
    "history_fine_tune = model.fit(train_data, validation_data=test_data, epochs=10, \n",
    "                              callbacks=[lr_reduction, early_stopping])"
   ]
  },
  {
   "cell_type": "code",
   "execution_count": 17,
   "metadata": {},
   "outputs": [
    {
     "name": "stdout",
     "output_type": "stream",
     "text": [
      "\u001b[1m269/269\u001b[0m \u001b[32m━━━━━━━━━━━━━━━━━━━━\u001b[0m\u001b[37m\u001b[0m \u001b[1m363s\u001b[0m 1s/step - accuracy: 0.0832 - loss: 4.2046\n",
      "Test Accuracy: 8.34%\n"
     ]
    }
   ],
   "source": [
    "# Step 12: Evaluate the model on the test dataset\n",
    "test_loss, test_accuracy = model.evaluate(test_data)\n",
    "print(f\"Test Accuracy: {test_accuracy * 100:.2f}%\")"
   ]
  },
  {
   "cell_type": "code",
   "execution_count": 18,
   "metadata": {},
   "outputs": [],
   "source": [
    "# Step 14: Make predictions on new data\n",
    "def predict_new_image(image_path):\n",
    "    # Load and preprocess the image\n",
    "    img = tf.keras.preprocessing.image.load_img(image_path, target_size=IMG_SIZE)\n",
    "    img = tf.keras.preprocessing.image.img_to_array(img)\n",
    "    img = img / 255.0  # Normalize\n",
    "    img = tf.expand_dims(img, axis=0)  # Add batch dimension\n",
    "\n",
    "    # Predict using the model\n",
    "    predictions = model.predict(img)\n",
    "    predicted_class = tf.argmax(predictions[0])\n",
    "    class_names = info.features['label'].int2str(predicted_class)\n",
    "    print(f\"Predicted Class: {class_names}\")\n",
    "\n",
    "# Example usage: predict_new_image(\"path_to_dog_image.jpg\")"
   ]
  },
  {
   "cell_type": "code",
   "execution_count": 19,
   "metadata": {},
   "outputs": [
    {
     "data": {
      "image/png": "[encoded data removed]",
      "text/plain": [
       "<Figure size 1200x600 with 2 Axes>"
      ]
     },
     "metadata": {},
     "output_type": "display_data"
    }
   ],
   "source": [
    "import matplotlib.pyplot as plt\n",
    "\n",
    "# Step 15: Plot training & validation accuracy and loss values\n",
    "def plot_training_history(history):\n",
    "    acc = history.history['accuracy']\n",
    "    val_acc = history.history['val_accuracy']\n",
    "    loss = history.history['loss']\n",
    "    val_loss = history.history['val_loss']\n",
    "\n",
    "    epochs_range = range(len(acc))\n",
    "\n",
    "    plt.figure(figsize=(12, 6))\n",
    "    plt.subplot(1, 2, 1)\n",
    "    plt.plot(epochs_range, acc, label='Training Accuracy')\n",
    "    plt.plot(epochs_range, val_acc, label='Validation Accuracy')\n",
    "    plt.legend(loc='lower right')\n",
    "    plt.title('Training and Validation Accuracy')\n",
    "\n",
    "    plt.subplot(1, 2, 2)\n",
    "    plt.plot(epochs_range, loss, label='Training Loss')\n",
    "    plt.plot(epochs_range, val_loss, label='Validation Loss')\n",
    "    plt.legend(loc='upper right')\n",
    "    plt.title('Training and Validation Loss')\n",
    "    plt.show()\n",
    "\n",
    "# Call the function to plot the history of the fine-tuned model\n",
    "plot_training_history(history)"
   ]
  }
 ],
 "metadata": {
  "kernelspec": {
   "display_name": "base",
   "language": "python",
   "name": "python3"
  },
  "language_info": {
   "codemirror_mode": {
    "name": "ipython",
    "version": 3
   },
   "file_extension": ".py",
   "mimetype": "text/x-python",
   "name": "python",
   "nbconvert_exporter": "python",
   "pygments_lexer": "ipython3",
   "version": "3.12.4"
  }
 },
 "nbformat": 4,
 "nbformat_minor": 2
}
